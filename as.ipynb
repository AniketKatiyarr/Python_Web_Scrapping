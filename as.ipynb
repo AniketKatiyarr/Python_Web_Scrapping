{
 "cells": [
  {
   "cell_type": "code",
   "execution_count": 52,
   "metadata": {},
   "outputs": [],
   "source": [
    "import requests\n",
    "from bs4 import BeautifulSoup as bs\n",
    "from urllib.request import urlopen\n",
    "import logging\n"
   ]
  },
  {
   "cell_type": "code",
   "execution_count": 53,
   "metadata": {},
   "outputs": [],
   "source": [
    "url = \"https://www.tatacliq.com/search/?searchCategory=all&text\"+\"kurti\""
   ]
  },
  {
   "cell_type": "code",
   "execution_count": 54,
   "metadata": {},
   "outputs": [
    {
     "data": {
      "text/plain": [
       "'https://www.tatacliq.com/search/?searchCategory=all&textkurti'"
      ]
     },
     "execution_count": 54,
     "metadata": {},
     "output_type": "execute_result"
    }
   ],
   "source": [
    "url"
   ]
  },
  {
   "cell_type": "code",
   "execution_count": 55,
   "metadata": {},
   "outputs": [],
   "source": [
    "url_client = urlopen(url)"
   ]
  },
  {
   "cell_type": "code",
   "execution_count": 56,
   "metadata": {},
   "outputs": [],
   "source": [
    "url_open = url_client.read()"
   ]
  },
  {
   "cell_type": "code",
   "execution_count": 57,
   "metadata": {},
   "outputs": [],
   "source": [
    "html_parsing = bs(url_open,\"html.parser\")"
   ]
  },
  {
   "cell_type": "code",
   "execution_count": 58,
   "metadata": {},
   "outputs": [
    {
     "data": {
      "text/plain": [
       "<!DOCTYPE html>\n",
       "<html lang=\"en\"><head><meta charset=\"utf-8\"/><meta content=\"width=device-width,initial-scale=1,shrink-to-fit=no,maximum-scale=5,user-scalable=1\" name=\"viewport\"/><meta content=\"#000000\" name=\"theme-color\"/><meta content=\"EU8G54_LSqH0OTlvIXRhrV1fnjGDdh0uBoKYraVKE1I\" name=\"google-site-verification\"/><script async=\"\" src=\"https://www.googletagmanager.com/gtag/js?id=G-XSSNP0VHER\"></script><script>function gtag(){dataLayer.push(arguments)}window.dataLayer=window.dataLayer||[],gtag(\"js\",new Date),gtag(\"config\",\"G-XSSNP0VHER\")</script><script>!function(e,t,a,n,g){e[n]=e[n]||[],e[n].push({\"gtm.start\":(new Date).getTime(),event:\"gtm.js\"});var m=t.getElementsByTagName(a)[0],r=t.createElement(a);r.async=!0,r.src=\"https://www.googletagmanager.com/gtm.js?id=GTM-NQNBPJDT\",m.parentNode.insertBefore(r,m)}(window,document,\"script\",\"dataLayer\")</script><meta content=\"484004418446735\" property=\"fb:app_id\"/><meta content=\"Online Fashion &amp; Lifestyle Shopping for Women, Men &amp; Kids in India - Tata CLiQ\" data-rh=\"true\" itemprop=\"name\"/><meta content=\"Shop from a wide range of fashion &amp; lifestyle products from top brands at the best prices only on Tata CLiQ. Buy Footwear, Apparel, Accessories, Jewellery, Smart Wearables, Headphones &amp; more now. Shop now!\" data-rh=\"true\" itemprop=\"description\"/><meta content=\"/images/icons/icon-512x512.png\" data-rh=\"true\" itemprop=\"image\"/><meta content=\"Website\" data-rh=\"true\" name=\"twitter:card\"/><meta content=\"@tatacliq\" data-rh=\"true\" name=\"twitter:site\"/><meta content=\"Online Fashion &amp; Lifestyle Shopping for Women, Men &amp; Kids in India - Tata CLiQ\" data-rh=\"true\" name=\"twitter:title\"/><meta content=\"Shop from a wide range of fashion &amp; lifestyle products from top brands at the best prices only on Tata CLiQ. Buy Footwear, Apparel, Accessories, Jewellery, Smart Wearables, Headphones &amp; more now. Shop now!\" data-rh=\"true\" name=\"twitter:description\"/><meta content=\"/images/icons/icon-512x512.png\" data-rh=\"true\" name=\"twitter:image:src\"/><meta content=\"Tata CLiQ\" data-rh=\"true\" property=\"og:site_name\"/><meta content=\"website\" data-rh=\"true\" property=\"og:type\"/><meta content=\"https://www.tatacliq.com/\" data-rh=\"true\" property=\"og:url\"/><meta content=\"/images/icons/icon-512x512.png\" data-rh=\"true\" property=\"og:image\"/><meta content=\"Tata CLiQ\" property=\"og:image:alt\"/><meta content=\"Online Fashion &amp; Lifestyle Shopping for Women, Men &amp; Kids in India - Tata CLiQ\" data-rh=\"true\" property=\"og:title\"/><meta content=\"Shop from a wide range of fashion &amp; lifestyle products from top brands at the best prices only on Tata CLiQ. Buy Footwear, Apparel, Accessories, Jewellery, Smart Wearables, Headphones &amp; more now. Shop now!\" data-rh=\"true\" property=\"og:description\"/><meta content=\"1101619385\" property=\"al:ios:app_store_id\"/><meta content=\"https://www.tatacliq.com/\" property=\"al:ios:url\"/><meta content=\"Tata Cliq\" property=\"al:ios:app_name\"/><meta content=\"com.tul.tatacliq\" property=\"al:android:package\"/><meta content=\"https://www.tatacliq.com/\" property=\"al:android:url\"/><meta content=\"Tata Cliq\" property=\"al:android:app_name\"/><meta content=\"!\" name=\"fragment\"/><meta content=\"TATACLIQ-WEB-APP\" name=\"tdl-sso-client_id\"/><link href=\"https://assets.adobedtm.com\" rel=\"dns-prefetch\"/><link href=\"https://tataunistorelimited.sc.omtrdc.net\" rel=\"dns-prefetch\"/><link href=\"https://tataunistore.demdex.net\" rel=\"dns-prefetch\"/><link href=\"https://tataunistore.tt.omtrdc.net\" rel=\"dns-prefetch\"/><link href=\"https://assets.tatacliq.com\" rel=\"dns-prefetch\"/><link href=\"https://assets.adobedtm.com\" rel=\"preconnect\"/><link href=\"https://dpm.demdex.net\" rel=\"preconnect\"/><link href=\"https://tataunistorelimited.sc.omtrdc.net\" rel=\"preconnect\"/><link href=\"https://tataunistore.demdex.net\" rel=\"preconnect\"/><link href=\"https://tataunistore.tt.omtrdc.net\" rel=\"preconnect\"/><link href=\"https://assets.tatacliq.com\" rel=\"preconnect\"/><link href=\"https://mboxedge17.tt.omtrdc.net\" rel=\"preconnect\"/><link href=\"/manifest.json\" rel=\"manifest\"/><link href=\"/src/assets/icon-72x72.png\" rel=\"apple-touch-icon\"/><link href=\"/favicon.ico\" rel=\"shortcut icon\"/><link as=\"font\" crossorigin=\"anonymous\" href=\"/src/assets/fonts/rubik-v20-latin-regular.woff2\" rel=\"preload\"/><link as=\"font\" crossorigin=\"anonymous\" href=\"/src/assets/fonts/rubik-v7-latin-500.woff2\" rel=\"preload\"/><link as=\"font\" crossorigin=\"anonymous\" href=\"/src/assets/fonts/rubik-v7-latin-300.woff2\" rel=\"preload\"/><script type=\"text/javascript\">function loadJS(n){var t=document.createElement(\"script\");t.src=n,document.getElementsByTagName(\"body\")[0].appendChild(t)}function postDomContentLoadedFunction(n){return void 0!==window.attachEvent?window.attachEvent(\"DOMContentLoaded\",n):window.addEventListener?window.addEventListener(\"DOMContentLoaded\",n,!1):void 0}function postLoadEventFunction(n){return void 0!==window.attachEvent?window.attachEvent(\"onload\",n):window.addEventListener?window.addEventListener(\"load\",n,!1):void 0}</script><script async=\"\" defer=\"defer\" src=\"https://accounts.tatadigital.com/v2/tdl-sso-auth.js\"></script><script type=\"text/javascript\">window[\"adrum-start-time\"]=(new Date).getTime(),function(n){var t;t=\"BO-AAB-BZX\",n.appKey=t,n.adrumExtUrlHttps=\"https://cdn.appdynamics.com\",n.beaconUrlHttp=\"http://bom-col.eum-appdynamics.com\",n.beaconUrlHttps=\"https://bom-col.eum-appdynamics.com\",n.resTiming={bufSize:200,clearResTimingOnBeaconSend:!0},n.isZonePromise=!0,n.maxUrlLength=512,n.fetch=!1}(window[\"adrum-config\"]||(window[\"adrum-config\"]={}))</script><script src=\"//cdn.appdynamics.com/adrum/adrum-latest.js\"></script><script defer=\"defer\" src=\"/client.87f5221005ea.js\"></script><link href=\"/css/style.d310ca229488.css\" rel=\"stylesheet\"/></head><body><noscript>You need to enable JavaScript to run this app.</noscript><noscript><iframe height=\"0\" src=\"https://www.googletagmanager.com/ns.html?id=GTM-NQNBPJDT\" style=\"display:none;visibility:hidden\" width=\"0\"></iframe></noscript><div id=\"root\"></div><div id=\"modal-root\"></div><div id=\"toast-root\"></div><div id=\"service-worker-toast-root\"></div><script>ci=\"0002321\",gemErrList=[],gemp=\"index\",window.addEventListener(\"error\",(function(r){if(r.error){var e={};try{e.m=r.message,e.f=r.filename.replace(/(\\r\\n|\\n|\\r)/gm,\"\"),e.l=r.lineno,e.c=r.colno,e.s=r.error.stack,gemErrList.push(e)}catch(r){}}}))</script><script defer=\"defer\" type=\"text/javascript\">var clevertap_account_id=\"867-R5K-8R5Z\",clevertap={event:[],profile:[],account:[],onUserLogin:[],notifications:[],privacy:[]};function clevertapJS(){var e=(\"https:\"==document.location.protocol?\"https://d2r1yp2w7bby2u.cloudfront.net\":\"http://static.clevertap.com\")+\"/js/a.js\";loadJS(e),setTimeout((function(){clevertap.notifications.push({titleText:\"Your favourites are a CLiQ away!\",bodyText:\"Get updates on your favourite brands, the biggest sales and products you love!\",okButtonText:\"Yes, I'm on Board\",rejectButtonText:\"Ask me later\",okButtonColor:\"#a91e3e\",askAgainTimeInSeconds:604800,serviceWorkerPath:\"/service-worker.js\",okCallback:function(){Notification.requestPermission().then((function(e){\"granted\"==e?clevertap.event.push(\"Web Push Notifications\",{\"User Accepted\":\"Yes\"}):clevertap.event.push(\"Web Push Notifications\",{\"User Accepted\":\"No\"})}))},rejectCallback:function(){clevertap.event.push(\"Web Push Notifications\",{\"User Accepted\":\"No\"})}})}),2e3)}clevertap.account.push({id:clevertap_account_id}),clevertap.privacy.push({optOut:!1}),clevertap.privacy.push({useIP:!1}),postDomContentLoadedFunction(clevertapJS)</script><script>!function(){var t=document.createElement(\"script\");t.type=\"text/javascript\",t.async=!0,t.src=(document.location.protocol,\"https://cdn.epsilondelta.co/static/gemGen.js\");var e=document.getElementsByTagName(\"script\")[0];e.parentNode.insertBefore(t,e)}()</script><script src=\"//assets.adobedtm.com/9fd06d4068c619c47b289b9c496761efd086a233/satelliteLib-5768eb8c6d43533f225815e1e41f7be236249910.js\"></script><script defer=\"defer\" type=\"text/javascript\">window.digitalData=Object.assign({},{page:{category:{primaryCategory:\"home\"},pageInfo:{pageName:\"homepage\",pageType:\"Homepage\"}}}),window._satellite&&_satellite.pageBottom()</script><script async=\"1\" type=\"text/javascript\">!function(e,a,o,c,t,n,s){e[t]||(e.GlobalSnowplowNamespace=e.GlobalSnowplowNamespace||[],e.GlobalSnowplowNamespace.push(t),e[t]=function(){(e[t].q=e[t].q||[]).push(arguments)},e[t].q=e[t].q||[],n=a.createElement(o),s=a.getElementsByTagName(o)[0],n.async=1,n.src=\"https://s3.ap-south-1.amazonaws.com/iglu.acme.com.dev.clixtream/tracker.js\",s.parentNode.insertBefore(n,s))}(window,document,\"script\",0,\"tracker\")</script><script type=\"text/javascript\">\"serviceWorker\"in navigator&&window.addEventListener(\"load\",(function(){navigator.serviceWorker.register(\"/service-worker.js\").then((function(e){console.log(\"ServiceWorker registration successful with scope: \",e.scope)}),(function(e){console.log(\"ServiceWorker registration failed: \",e)}))}))</script><span itemscope=\"itemscope\" itemtype=\"https://www.schema.org/SiteNavigationElement\"><link href=\"https://www.tatacliq.com/electronics-sale\" itemprop=\"url\"><meta content=\"Electronics\" itemprop=\"name\"/><meta content=\"Amazing Deals on Large &amp; Small Electronic Appliances.\" itemprop=\"description\"/></link></span><span itemscope=\"itemscope\" itemtype=\"https://www.schema.org/SiteNavigationElement\"><link href=\"https://www.tatacliq.com/womens-clothing/c-msh10\" itemprop=\"url\"/><meta content=\"Women's Fashion\" itemprop=\"name\"/><meta content=\"Huge Discounts on Women's Fashion Clothing &amp; Apparels.\" itemprop=\"description\"/></span><span itemscope=\"itemscope\" itemtype=\"https://www.schema.org/SiteNavigationElement\"><link href=\"https://www.tatacliq.com/mens-clothing/c-msh11\" itemprop=\"url\"/><meta content=\"Men's Fashion\" itemprop=\"name\"/><meta content=\"Largest Online Collection of Branded Clothing for Men.\" itemprop=\"description\"/></span><span itemscope=\"itemscope\" itemtype=\"https://www.schema.org/SiteNavigationElement\"><link href=\"https://www.tatacliq.com/deal-of-the-day\" itemprop=\"url\"/><meta content=\"Deal of the Day\" itemprop=\"name\"/><meta content=\"Check out the Top Deals &amp; Discounts of the Day at Tata CLiQ!\" itemprop=\"description\"/></span><span itemscope=\"itemscope\" itemtype=\"https://www.schema.org/SiteNavigationElement\"><link href=\"https://www.tatacliq.com/electronics-mobile-phones-smartphones/c-msh1210100\" itemprop=\"url\"/><meta content=\"Smartphones\" itemprop=\"name\"/><meta content=\" Upto 60% Off on Latest Smartphone Brands.\" itemprop=\"description\"/></span><span itemscope=\"itemscope\" itemtype=\"https://www.schema.org/SiteNavigationElement\"><link href=\"https://www.tatacliq.com/westside/c-mbh11a00004?&amp;icid2=hbr:regu:wlp:m10:a00004:best:01:230418\" itemprop=\"url\"/><meta content=\"Westside\" itemprop=\"name\"/><meta content=\"Latest Collection of Westside Clothing for Men &amp; Women.\" itemprop=\"description\"/></span></body></html>"
      ]
     },
     "execution_count": 58,
     "metadata": {},
     "output_type": "execute_result"
    }
   ],
   "source": [
    "html_parsing"
   ]
  },
  {
   "cell_type": "code",
   "execution_count": 59,
   "metadata": {},
   "outputs": [],
   "source": [
    "big_box = html_parsing.find_all(\"div\",{\"class\":\"ProductModule__base\"})"
   ]
  },
  {
   "cell_type": "code",
   "execution_count": 60,
   "metadata": {},
   "outputs": [
    {
     "data": {
      "text/plain": [
       "[]"
      ]
     },
     "execution_count": 60,
     "metadata": {},
     "output_type": "execute_result"
    }
   ],
   "source": [
    "big_box"
   ]
  },
  {
   "cell_type": "code",
   "execution_count": null,
   "metadata": {},
   "outputs": [],
   "source": []
  }
 ],
 "metadata": {
  "kernelspec": {
   "display_name": "Python 3",
   "language": "python",
   "name": "python3"
  },
  "language_info": {
   "codemirror_mode": {
    "name": "ipython",
    "version": 3
   },
   "file_extension": ".py",
   "mimetype": "text/x-python",
   "name": "python",
   "nbconvert_exporter": "python",
   "pygments_lexer": "ipython3",
   "version": "3.11.6"
  }
 },
 "nbformat": 4,
 "nbformat_minor": 2
}
